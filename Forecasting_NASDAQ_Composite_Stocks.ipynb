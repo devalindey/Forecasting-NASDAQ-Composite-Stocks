{
  "nbformat": 4,
  "nbformat_minor": 0,
  "metadata": {
    "colab": {
      "name": "Forecasting_NASDAQ_Composite_Stocks.ipynb",
      "provenance": [],
      "collapsed_sections": [],
      "authorship_tag": "ABX9TyMEm+8B8A6BKBAZWjw5IwrJ"
    },
    "kernelspec": {
      "name": "python3",
      "display_name": "Python 3"
    }
  },
  "cells": [
    {
      "cell_type": "markdown",
      "metadata": {
        "id": "hPbKAhYuuEBK",
        "colab_type": "text"
      },
      "source": [
        "# Forecasting NASDAQ Composite Stocks"
      ]
    },
    {
      "cell_type": "markdown",
      "metadata": {
        "id": "onoqVqxJpN0Q",
        "colab_type": "text"
      },
      "source": [
        "### Importing the libraries"
      ]
    },
    {
      "cell_type": "code",
      "metadata": {
        "id": "lteRlzOJRMA6",
        "colab_type": "code",
        "colab": {}
      },
      "source": [
        "import warnings\n",
        "warnings.filterwarnings('ignore')\n",
        "import yfinance as yf\n",
        "import numpy as np\n",
        "import matplotlib.pyplot as plt\n",
        "import pandas as pd\n",
        "from statsmodels.tsa.seasonal import seasonal_decompose\n",
        "from pmdarima import auto_arima\n",
        "from statsmodels.tsa.arima_model import ARIMA\n",
        "from sklearn.metrics import mean_squared_error"
      ],
      "execution_count": 0,
      "outputs": []
    },
    {
      "cell_type": "markdown",
      "metadata": {
        "id": "9k05PmAzpToe",
        "colab_type": "text"
      },
      "source": [
        "### Downloading 'NASDAQ Composite' Dataset from Yahoo Finance"
      ]
    },
    {
      "cell_type": "code",
      "metadata": {
        "id": "__vrKg4DRY39",
        "colab_type": "code",
        "colab": {
          "base_uri": "https://localhost:8080/",
          "height": 34
        },
        "outputId": "e969a2d1-3953-4caf-d3f3-3d3a7569dda4"
      },
      "source": [
        "dataset = yf.download('^IXIC','2010-01-11','2019-12-31')"
      ],
      "execution_count": 2,
      "outputs": [
        {
          "output_type": "stream",
          "text": [
            "\r[*********************100%***********************]  1 of 1 completed\n"
          ],
          "name": "stdout"
        }
      ]
    },
    {
      "cell_type": "code",
      "metadata": {
        "id": "CQiPThHIT9RZ",
        "colab_type": "code",
        "colab": {
          "base_uri": "https://localhost:8080/",
          "height": 390
        },
        "outputId": "0c623a63-426b-4021-d5eb-8de6e218401b"
      },
      "source": [
        "dataset.head(10)"
      ],
      "execution_count": 3,
      "outputs": [
        {
          "output_type": "execute_result",
          "data": {
            "text/html": [
              "<div>\n",
              "<style scoped>\n",
              "    .dataframe tbody tr th:only-of-type {\n",
              "        vertical-align: middle;\n",
              "    }\n",
              "\n",
              "    .dataframe tbody tr th {\n",
              "        vertical-align: top;\n",
              "    }\n",
              "\n",
              "    .dataframe thead th {\n",
              "        text-align: right;\n",
              "    }\n",
              "</style>\n",
              "<table border=\"1\" class=\"dataframe\">\n",
              "  <thead>\n",
              "    <tr style=\"text-align: right;\">\n",
              "      <th></th>\n",
              "      <th>Open</th>\n",
              "      <th>High</th>\n",
              "      <th>Low</th>\n",
              "      <th>Close</th>\n",
              "      <th>Adj Close</th>\n",
              "      <th>Volume</th>\n",
              "    </tr>\n",
              "    <tr>\n",
              "      <th>Date</th>\n",
              "      <th></th>\n",
              "      <th></th>\n",
              "      <th></th>\n",
              "      <th></th>\n",
              "      <th></th>\n",
              "      <th></th>\n",
              "    </tr>\n",
              "  </thead>\n",
              "  <tbody>\n",
              "    <tr>\n",
              "      <th>2010-01-11</th>\n",
              "      <td>2324.780029</td>\n",
              "      <td>2326.280029</td>\n",
              "      <td>2302.209961</td>\n",
              "      <td>2312.409912</td>\n",
              "      <td>2312.409912</td>\n",
              "      <td>2077890000</td>\n",
              "    </tr>\n",
              "    <tr>\n",
              "      <th>2010-01-12</th>\n",
              "      <td>2297.280029</td>\n",
              "      <td>2298.850098</td>\n",
              "      <td>2272.699951</td>\n",
              "      <td>2282.310059</td>\n",
              "      <td>2282.310059</td>\n",
              "      <td>2368320000</td>\n",
              "    </tr>\n",
              "    <tr>\n",
              "      <th>2010-01-13</th>\n",
              "      <td>2289.459961</td>\n",
              "      <td>2313.030029</td>\n",
              "      <td>2274.120117</td>\n",
              "      <td>2307.899902</td>\n",
              "      <td>2307.899902</td>\n",
              "      <td>2318350000</td>\n",
              "    </tr>\n",
              "    <tr>\n",
              "      <th>2010-01-14</th>\n",
              "      <td>2303.310059</td>\n",
              "      <td>2322.560059</td>\n",
              "      <td>2303.290039</td>\n",
              "      <td>2316.739990</td>\n",
              "      <td>2316.739990</td>\n",
              "      <td>2254170000</td>\n",
              "    </tr>\n",
              "    <tr>\n",
              "      <th>2010-01-15</th>\n",
              "      <td>2316.979980</td>\n",
              "      <td>2322.540039</td>\n",
              "      <td>2279.199951</td>\n",
              "      <td>2287.989990</td>\n",
              "      <td>2287.989990</td>\n",
              "      <td>2637770000</td>\n",
              "    </tr>\n",
              "    <tr>\n",
              "      <th>2010-01-19</th>\n",
              "      <td>2291.020020</td>\n",
              "      <td>2320.399902</td>\n",
              "      <td>2290.679932</td>\n",
              "      <td>2320.399902</td>\n",
              "      <td>2320.399902</td>\n",
              "      <td>2045290000</td>\n",
              "    </tr>\n",
              "    <tr>\n",
              "      <th>2010-01-20</th>\n",
              "      <td>2304.310059</td>\n",
              "      <td>2304.469971</td>\n",
              "      <td>2268.679932</td>\n",
              "      <td>2291.250000</td>\n",
              "      <td>2291.250000</td>\n",
              "      <td>2351890000</td>\n",
              "    </tr>\n",
              "    <tr>\n",
              "      <th>2010-01-21</th>\n",
              "      <td>2298.229980</td>\n",
              "      <td>2308.979980</td>\n",
              "      <td>2259.820068</td>\n",
              "      <td>2265.699951</td>\n",
              "      <td>2265.699951</td>\n",
              "      <td>2877800000</td>\n",
              "    </tr>\n",
              "    <tr>\n",
              "      <th>2010-01-22</th>\n",
              "      <td>2255.760010</td>\n",
              "      <td>2262.270020</td>\n",
              "      <td>2200.370117</td>\n",
              "      <td>2205.290039</td>\n",
              "      <td>2205.290039</td>\n",
              "      <td>2817620000</td>\n",
              "    </tr>\n",
              "    <tr>\n",
              "      <th>2010-01-25</th>\n",
              "      <td>2220.290039</td>\n",
              "      <td>2223.219971</td>\n",
              "      <td>2201.169922</td>\n",
              "      <td>2210.800049</td>\n",
              "      <td>2210.800049</td>\n",
              "      <td>2134350000</td>\n",
              "    </tr>\n",
              "  </tbody>\n",
              "</table>\n",
              "</div>"
            ],
            "text/plain": [
              "                   Open         High  ...    Adj Close      Volume\n",
              "Date                                  ...                         \n",
              "2010-01-11  2324.780029  2326.280029  ...  2312.409912  2077890000\n",
              "2010-01-12  2297.280029  2298.850098  ...  2282.310059  2368320000\n",
              "2010-01-13  2289.459961  2313.030029  ...  2307.899902  2318350000\n",
              "2010-01-14  2303.310059  2322.560059  ...  2316.739990  2254170000\n",
              "2010-01-15  2316.979980  2322.540039  ...  2287.989990  2637770000\n",
              "2010-01-19  2291.020020  2320.399902  ...  2320.399902  2045290000\n",
              "2010-01-20  2304.310059  2304.469971  ...  2291.250000  2351890000\n",
              "2010-01-21  2298.229980  2308.979980  ...  2265.699951  2877800000\n",
              "2010-01-22  2255.760010  2262.270020  ...  2205.290039  2817620000\n",
              "2010-01-25  2220.290039  2223.219971  ...  2210.800049  2134350000\n",
              "\n",
              "[10 rows x 6 columns]"
            ]
          },
          "metadata": {
            "tags": []
          },
          "execution_count": 3
        }
      ]
    },
    {
      "cell_type": "markdown",
      "metadata": {
        "id": "tzp-00-QphCd",
        "colab_type": "text"
      },
      "source": [
        "### Resampling Data on Weekly Basis (Starting on Monday)"
      ]
    },
    {
      "cell_type": "code",
      "metadata": {
        "id": "KcK-nVkqS27F",
        "colab_type": "code",
        "colab": {}
      },
      "source": [
        "dataset = dataset.resample(rule='W-MON').mean()"
      ],
      "execution_count": 0,
      "outputs": []
    },
    {
      "cell_type": "markdown",
      "metadata": {
        "id": "JdcLc2wCpqgi",
        "colab_type": "text"
      },
      "source": [
        "### Setting Index Frequency"
      ]
    },
    {
      "cell_type": "code",
      "metadata": {
        "id": "hGVxmhx0ZzDq",
        "colab_type": "code",
        "colab": {}
      },
      "source": [
        "dataset.index.freq = 'W-MON'"
      ],
      "execution_count": 0,
      "outputs": []
    },
    {
      "cell_type": "code",
      "metadata": {
        "id": "Z4_E-myLR3uU",
        "colab_type": "code",
        "colab": {
          "base_uri": "https://localhost:8080/",
          "height": 153
        },
        "outputId": "b4ff3494-f4f3-454a-d641-b8277c180b78"
      },
      "source": [
        "dataset.index"
      ],
      "execution_count": 6,
      "outputs": [
        {
          "output_type": "execute_result",
          "data": {
            "text/plain": [
              "DatetimeIndex(['2010-01-11', '2010-01-18', '2010-01-25', '2010-02-01',\n",
              "               '2010-02-08', '2010-02-15', '2010-02-22', '2010-03-01',\n",
              "               '2010-03-08', '2010-03-15',\n",
              "               ...\n",
              "               '2019-10-28', '2019-11-04', '2019-11-11', '2019-11-18',\n",
              "               '2019-11-25', '2019-12-02', '2019-12-09', '2019-12-16',\n",
              "               '2019-12-23', '2019-12-30'],\n",
              "              dtype='datetime64[ns]', name='Date', length=521, freq='W-MON')"
            ]
          },
          "metadata": {
            "tags": []
          },
          "execution_count": 6
        }
      ]
    },
    {
      "cell_type": "markdown",
      "metadata": {
        "id": "U8CdYCRUp5rt",
        "colab_type": "text"
      },
      "source": [
        "### Plotting the 'Open' Column"
      ]
    },
    {
      "cell_type": "code",
      "metadata": {
        "id": "O3JhbskxSJMz",
        "colab_type": "code",
        "colab": {
          "base_uri": "https://localhost:8080/",
          "height": 514
        },
        "outputId": "3476acb8-d36a-44d9-83ec-bdb9b8c5c5a8"
      },
      "source": [
        "dataset['Open'].plot(figsize = (16,8))"
      ],
      "execution_count": 7,
      "outputs": [
        {
          "output_type": "execute_result",
          "data": {
            "text/plain": [
              "<matplotlib.axes._subplots.AxesSubplot at 0x7fd44eb83a58>"
            ]
          },
          "metadata": {
            "tags": []
          },
          "execution_count": 7
        },
        {
          "output_type": "display_data",
          "data": {
            "image/png": "[encoded data removed]",
            "text/plain": [
              "<Figure size 1152x576 with 1 Axes>"
            ]
          },
          "metadata": {
            "tags": []
          }
        }
      ]
    },
    {
      "cell_type": "markdown",
      "metadata": {
        "id": "AJ979c1GqE6q",
        "colab_type": "text"
      },
      "source": [
        "### ETS Decomposition of the 'Open' column"
      ]
    },
    {
      "cell_type": "code",
      "metadata": {
        "id": "iMk8IAbzXLy0",
        "colab_type": "code",
        "colab": {
          "base_uri": "https://localhost:8080/",
          "height": 297
        },
        "outputId": "f6acb80b-e388-40cd-8c1e-6249c32e7d2d"
      },
      "source": [
        "result = seasonal_decompose(dataset['Open'], model='add')\n",
        "result.plot();"
      ],
      "execution_count": 8,
      "outputs": [
        {
          "output_type": "display_data",
          "data": {
            "image/png": "[encoded data removed]",
            "text/plain": [
              "<Figure size 432x288 with 4 Axes>"
            ]
          },
          "metadata": {
            "tags": []
          }
        }
      ]
    },
    {
      "cell_type": "markdown",
      "metadata": {
        "id": "-UvDxi2ZsfU1",
        "colab_type": "text"
      },
      "source": [
        "##### *A good upward trend with negligible seasonality.*"
      ]
    },
    {
      "cell_type": "markdown",
      "metadata": {
        "id": "r9HoskDKqPC2",
        "colab_type": "text"
      },
      "source": [
        "### Performing Augmented Dickey-Fuller Test"
      ]
    },
    {
      "cell_type": "code",
      "metadata": {
        "id": "R8MPJRErdVEt",
        "colab_type": "code",
        "colab": {
          "base_uri": "https://localhost:8080/",
          "height": 204
        },
        "outputId": "0db407e3-1d56-45d6-a604-fff0865a6abf"
      },
      "source": [
        "from statsmodels.tsa.stattools import adfuller\n",
        "def adf_test(series, title = ''): # Pass in a time-series & an optional title. Returns an ADF Report.\n",
        "    print(f'Augmented Dickey-Fuller Test: {title}')\n",
        "    result = adfuller(series.dropna(), autolag = 'AIC') # dropna() handles differenced data.\n",
        "    labels = ['ADF Test Statistics', 'p-value', 'Number of Lags Used', 'Number of Observations Used']\n",
        "    out = pd.Series(result[0:4], index = labels)\n",
        "    \n",
        "    for key, value in result[4].items():\n",
        "        out[f'Critical Value (%s)'% key] = value\n",
        "    print(out.to_string()) # to_string removes the line dtype: float64\n",
        "    \n",
        "    if result[1] <= 0.05:\n",
        "        print('Strong evidence against the null hypothesis',\n",
        "              '\\nReject the null hypothesis',\n",
        "              '\\nData has no unit root & is stationary')\n",
        "    else:\n",
        "        print('Weak evidence against the null hypothesis',\n",
        "              '\\nFail to reject the null hypothesis',\n",
        "              '\\nData has a unit root & is non-stationary')\n",
        "        \n",
        "adf_test(dataset['Open'], title = 'Open')"
      ],
      "execution_count": 9,
      "outputs": [
        {
          "output_type": "stream",
          "text": [
            "Augmented Dickey-Fuller Test: Open\n",
            "ADF Test Statistics              0.953433\n",
            "p-value                          0.993749\n",
            "Number of Lags Used              2.000000\n",
            "Number of Observations Used    518.000000\n",
            "Critical Value (1%)             -3.443037\n",
            "Critical Value (5%)             -2.867136\n",
            "Critical Value (10%)            -2.569750\n",
            "Weak evidence against the null hypothesis \n",
            "Fail to reject the null hypothesis \n",
            "Data has a unit root & is non-stationary\n"
          ],
          "name": "stdout"
        }
      ]
    },
    {
      "cell_type": "markdown",
      "metadata": {
        "id": "c41-Jmedqp7C",
        "colab_type": "text"
      },
      "source": [
        "### Using Pyramid ARIMA we will find the best ARIMA order"
      ]
    },
    {
      "cell_type": "code",
      "metadata": {
        "id": "0OIPsYUOc6mV",
        "colab_type": "code",
        "colab": {
          "base_uri": "https://localhost:8080/",
          "height": 306
        },
        "outputId": "ae26d5ec-b700-4c24-8a55-1b5e55e01a55"
      },
      "source": [
        "stepwise_fit = auto_arima(dataset['Open'], start_p = 0, start_q = 0, seasonal = False, trace = True)"
      ],
      "execution_count": 10,
      "outputs": [
        {
          "output_type": "stream",
          "text": [
            "Fit ARIMA: order=(0, 1, 0) seasonal_order=(0, 0, 0, 0); AIC=6116.288, BIC=6124.796, Fit time=0.034 seconds\n",
            "Fit ARIMA: order=(1, 1, 0) seasonal_order=(0, 0, 0, 0); AIC=6100.306, BIC=6113.067, Fit time=0.087 seconds\n",
            "Fit ARIMA: order=(0, 1, 1) seasonal_order=(0, 0, 0, 0); AIC=6095.842, BIC=6108.603, Fit time=0.272 seconds\n",
            "Fit ARIMA: order=(0, 1, 0) seasonal_order=(0, 0, 0, 0); AIC=6125.641, BIC=6129.895, Fit time=0.019 seconds\n",
            "Fit ARIMA: order=(1, 1, 1) seasonal_order=(0, 0, 0, 0); AIC=6096.286, BIC=6113.301, Fit time=0.432 seconds\n",
            "Fit ARIMA: order=(0, 1, 2) seasonal_order=(0, 0, 0, 0); AIC=6095.419, BIC=6112.434, Fit time=0.419 seconds\n",
            "Fit ARIMA: order=(1, 1, 2) seasonal_order=(0, 0, 0, 0); AIC=6095.446, BIC=6116.715, Fit time=0.986 seconds\n",
            "Fit ARIMA: order=(0, 1, 3) seasonal_order=(0, 0, 0, 0); AIC=6095.912, BIC=6117.182, Fit time=0.365 seconds\n",
            "Fit ARIMA: order=(1, 1, 3) seasonal_order=(0, 0, 0, 0); AIC=6094.087, BIC=6119.609, Fit time=1.164 seconds\n"
          ],
          "name": "stdout"
        },
        {
          "output_type": "stream",
          "text": [
            "/usr/local/lib/python3.6/dist-packages/statsmodels/base/model.py:512: ConvergenceWarning: Maximum Likelihood optimization failed to converge. Check mle_retvals\n",
            "  \"Check mle_retvals\", ConvergenceWarning)\n"
          ],
          "name": "stderr"
        },
        {
          "output_type": "stream",
          "text": [
            "Fit ARIMA: order=(2, 1, 3) seasonal_order=(0, 0, 0, 0); AIC=6096.017, BIC=6125.794, Fit time=1.422 seconds\n",
            "Fit ARIMA: order=(1, 1, 4) seasonal_order=(0, 0, 0, 0); AIC=6096.049, BIC=6125.826, Fit time=1.564 seconds\n",
            "Fit ARIMA: order=(0, 1, 4) seasonal_order=(0, 0, 0, 0); AIC=6097.621, BIC=6123.144, Fit time=0.757 seconds\n",
            "Fit ARIMA: order=(2, 1, 2) seasonal_order=(0, 0, 0, 0); AIC=6098.200, BIC=6123.723, Fit time=0.593 seconds\n",
            "Fit ARIMA: order=(2, 1, 4) seasonal_order=(0, 0, 0, 0); AIC=6098.048, BIC=6132.078, Fit time=1.194 seconds\n",
            "Total fit time: 9.329 seconds\n"
          ],
          "name": "stdout"
        }
      ]
    },
    {
      "cell_type": "code",
      "metadata": {
        "id": "mRvjnMAvdy2j",
        "colab_type": "code",
        "colab": {
          "base_uri": "https://localhost:8080/",
          "height": 486
        },
        "outputId": "c406dc95-b86d-4727-ad7d-9723f7e6c733"
      },
      "source": [
        "stepwise_fit.summary()"
      ],
      "execution_count": 11,
      "outputs": [
        {
          "output_type": "execute_result",
          "data": {
            "text/html": [
              "<table class=\"simpletable\">\n",
              "<caption>Statespace Model Results</caption>\n",
              "<tr>\n",
              "  <th>Dep. Variable:</th>           <td>y</td>        <th>  No. Observations:  </th>    <td>521</td>   \n",
              "</tr>\n",
              "<tr>\n",
              "  <th>Model:</th>           <td>SARIMAX(1, 1, 3)</td> <th>  Log Likelihood     </th> <td>-3041.043</td>\n",
              "</tr>\n",
              "<tr>\n",
              "  <th>Date:</th>            <td>Wed, 12 Feb 2020</td> <th>  AIC                </th> <td>6094.087</td> \n",
              "</tr>\n",
              "<tr>\n",
              "  <th>Time:</th>                <td>04:44:45</td>     <th>  BIC                </th> <td>6119.609</td> \n",
              "</tr>\n",
              "<tr>\n",
              "  <th>Sample:</th>                  <td>0</td>        <th>  HQIC               </th> <td>6104.085</td> \n",
              "</tr>\n",
              "<tr>\n",
              "  <th></th>                      <td> - 521</td>      <th>                     </th>     <td> </td>    \n",
              "</tr>\n",
              "<tr>\n",
              "  <th>Covariance Type:</th>        <td>opg</td>       <th>                     </th>     <td> </td>    \n",
              "</tr>\n",
              "</table>\n",
              "<table class=\"simpletable\">\n",
              "<tr>\n",
              "      <td></td>         <th>coef</th>     <th>std err</th>      <th>z</th>      <th>P>|z|</th>  <th>[0.025</th>    <th>0.975]</th>  \n",
              "</tr>\n",
              "<tr>\n",
              "  <th>intercept</th> <td>   23.5464</td> <td>    8.774</td> <td>    2.684</td> <td> 0.007</td> <td>    6.350</td> <td>   40.742</td>\n",
              "</tr>\n",
              "<tr>\n",
              "  <th>ar.L1</th>     <td>   -0.8405</td> <td>    0.123</td> <td>   -6.852</td> <td> 0.000</td> <td>   -1.081</td> <td>   -0.600</td>\n",
              "</tr>\n",
              "<tr>\n",
              "  <th>ma.L1</th>     <td>    1.0562</td> <td>    0.128</td> <td>    8.283</td> <td> 0.000</td> <td>    0.806</td> <td>    1.306</td>\n",
              "</tr>\n",
              "<tr>\n",
              "  <th>ma.L2</th>     <td>    0.0886</td> <td>    0.055</td> <td>    1.603</td> <td> 0.109</td> <td>   -0.020</td> <td>    0.197</td>\n",
              "</tr>\n",
              "<tr>\n",
              "  <th>ma.L3</th>     <td>   -0.1223</td> <td>    0.030</td> <td>   -4.086</td> <td> 0.000</td> <td>   -0.181</td> <td>   -0.064</td>\n",
              "</tr>\n",
              "<tr>\n",
              "  <th>sigma2</th>    <td> 7031.0580</td> <td>  297.569</td> <td>   23.628</td> <td> 0.000</td> <td> 6447.833</td> <td> 7614.283</td>\n",
              "</tr>\n",
              "</table>\n",
              "<table class=\"simpletable\">\n",
              "<tr>\n",
              "  <th>Ljung-Box (Q):</th>          <td>52.35</td> <th>  Jarque-Bera (JB):  </th> <td>293.83</td>\n",
              "</tr>\n",
              "<tr>\n",
              "  <th>Prob(Q):</th>                <td>0.09</td>  <th>  Prob(JB):          </th>  <td>0.00</td> \n",
              "</tr>\n",
              "<tr>\n",
              "  <th>Heteroskedasticity (H):</th> <td>4.25</td>  <th>  Skew:              </th>  <td>-0.78</td>\n",
              "</tr>\n",
              "<tr>\n",
              "  <th>Prob(H) (two-sided):</th>    <td>0.00</td>  <th>  Kurtosis:          </th>  <td>6.34</td> \n",
              "</tr>\n",
              "</table><br/><br/>Warnings:<br/>[1] Covariance matrix calculated using the outer product of gradients (complex-step)."
            ],
            "text/plain": [
              "<class 'statsmodels.iolib.summary.Summary'>\n",
              "\"\"\"\n",
              "                           Statespace Model Results                           \n",
              "==============================================================================\n",
              "Dep. Variable:                      y   No. Observations:                  521\n",
              "Model:               SARIMAX(1, 1, 3)   Log Likelihood               -3041.043\n",
              "Date:                Wed, 12 Feb 2020   AIC                           6094.087\n",
              "Time:                        04:44:45   BIC                           6119.609\n",
              "Sample:                             0   HQIC                          6104.085\n",
              "                                - 521                                         \n",
              "Covariance Type:                  opg                                         \n",
              "==============================================================================\n",
              "                 coef    std err          z      P>|z|      [0.025      0.975]\n",
              "------------------------------------------------------------------------------\n",
              "intercept     23.5464      8.774      2.684      0.007       6.350      40.742\n",
              "ar.L1         -0.8405      0.123     -6.852      0.000      -1.081      -0.600\n",
              "ma.L1          1.0562      0.128      8.283      0.000       0.806       1.306\n",
              "ma.L2          0.0886      0.055      1.603      0.109      -0.020       0.197\n",
              "ma.L3         -0.1223      0.030     -4.086      0.000      -0.181      -0.064\n",
              "sigma2      7031.0580    297.569     23.628      0.000    6447.833    7614.283\n",
              "===================================================================================\n",
              "Ljung-Box (Q):                       52.35   Jarque-Bera (JB):               293.83\n",
              "Prob(Q):                              0.09   Prob(JB):                         0.00\n",
              "Heteroskedasticity (H):               4.25   Skew:                            -0.78\n",
              "Prob(H) (two-sided):                  0.00   Kurtosis:                         6.34\n",
              "===================================================================================\n",
              "\n",
              "Warnings:\n",
              "[1] Covariance matrix calculated using the outer product of gradients (complex-step).\n",
              "\"\"\""
            ]
          },
          "metadata": {
            "tags": []
          },
          "execution_count": 11
        }
      ]
    },
    {
      "cell_type": "markdown",
      "metadata": {
        "id": "o7N5scnesvYY",
        "colab_type": "text"
      },
      "source": [
        "##### *Although it shows SARIMAX(1, 1, 3), we will use ARIMA(1, 1, 3).*"
      ]
    },
    {
      "cell_type": "markdown",
      "metadata": {
        "id": "H3r9btpSq59g",
        "colab_type": "text"
      },
      "source": [
        "### Splitting the Dataset into Training & Test Sets"
      ]
    },
    {
      "cell_type": "code",
      "metadata": {
        "id": "CSCeUp6bW5AX",
        "colab_type": "code",
        "colab": {}
      },
      "source": [
        "train = dataset.iloc[:509] # We will keep 12 weeks for the Test Set\n",
        "test = dataset.iloc[509:]"
      ],
      "execution_count": 0,
      "outputs": []
    },
    {
      "cell_type": "markdown",
      "metadata": {
        "id": "LvZsLBeDrHPU",
        "colab_type": "text"
      },
      "source": [
        "### Fitting ARIMA onto the Training Set"
      ]
    },
    {
      "cell_type": "code",
      "metadata": {
        "id": "iroCC8theIUX",
        "colab_type": "code",
        "colab": {
          "base_uri": "https://localhost:8080/",
          "height": 435
        },
        "outputId": "f5b2a04f-dd7a-4c20-c023-3041ddc15b8b"
      },
      "source": [
        "model = ARIMA(train['Open'], order = (1, 1, 3))\n",
        "result = model.fit()\n",
        "result.summary()"
      ],
      "execution_count": 13,
      "outputs": [
        {
          "output_type": "execute_result",
          "data": {
            "text/html": [
              "<table class=\"simpletable\">\n",
              "<caption>ARIMA Model Results</caption>\n",
              "<tr>\n",
              "  <th>Dep. Variable:</th>      <td>D.Open</td>      <th>  No. Observations:  </th>    <td>508</td>   \n",
              "</tr>\n",
              "<tr>\n",
              "  <th>Model:</th>          <td>ARIMA(1, 1, 3)</td>  <th>  Log Likelihood     </th> <td>-2968.598</td>\n",
              "</tr>\n",
              "<tr>\n",
              "  <th>Method:</th>             <td>css-mle</td>     <th>  S.D. of innovations</th>  <td>83.483</td>  \n",
              "</tr>\n",
              "<tr>\n",
              "  <th>Date:</th>          <td>Wed, 12 Feb 2020</td> <th>  AIC                </th> <td>5949.197</td> \n",
              "</tr>\n",
              "<tr>\n",
              "  <th>Time:</th>              <td>04:44:45</td>     <th>  BIC                </th> <td>5974.579</td> \n",
              "</tr>\n",
              "<tr>\n",
              "  <th>Sample:</th>           <td>01-18-2010</td>    <th>  HQIC               </th> <td>5959.150</td> \n",
              "</tr>\n",
              "<tr>\n",
              "  <th></th>                 <td>- 10-07-2019</td>   <th>                     </th>     <td> </td>    \n",
              "</tr>\n",
              "</table>\n",
              "<table class=\"simpletable\">\n",
              "<tr>\n",
              "        <td></td>          <th>coef</th>     <th>std err</th>      <th>z</th>      <th>P>|z|</th>  <th>[0.025</th>    <th>0.975]</th>  \n",
              "</tr>\n",
              "<tr>\n",
              "  <th>const</th>        <td>   10.9951</td> <td>    4.027</td> <td>    2.730</td> <td> 0.007</td> <td>    3.103</td> <td>   18.888</td>\n",
              "</tr>\n",
              "<tr>\n",
              "  <th>ar.L1.D.Open</th> <td>   -0.8295</td> <td>    0.112</td> <td>   -7.394</td> <td> 0.000</td> <td>   -1.049</td> <td>   -0.610</td>\n",
              "</tr>\n",
              "<tr>\n",
              "  <th>ma.L1.D.Open</th> <td>    1.0358</td> <td>    0.119</td> <td>    8.698</td> <td> 0.000</td> <td>    0.802</td> <td>    1.269</td>\n",
              "</tr>\n",
              "<tr>\n",
              "  <th>ma.L2.D.Open</th> <td>    0.0752</td> <td>    0.071</td> <td>    1.067</td> <td> 0.287</td> <td>   -0.063</td> <td>    0.213</td>\n",
              "</tr>\n",
              "<tr>\n",
              "  <th>ma.L3.D.Open</th> <td>   -0.1222</td> <td>    0.046</td> <td>   -2.644</td> <td> 0.008</td> <td>   -0.213</td> <td>   -0.032</td>\n",
              "</tr>\n",
              "</table>\n",
              "<table class=\"simpletable\">\n",
              "<caption>Roots</caption>\n",
              "<tr>\n",
              "    <td></td>   <th>            Real</th>  <th>         Imaginary</th> <th>         Modulus</th>  <th>        Frequency</th>\n",
              "</tr>\n",
              "<tr>\n",
              "  <th>AR.1</th> <td>          -1.2055</td> <td>          +0.0000j</td> <td>           1.2055</td> <td>           0.5000</td>\n",
              "</tr>\n",
              "<tr>\n",
              "  <th>MA.1</th> <td>          -1.4925</td> <td>          -0.2121j</td> <td>           1.5075</td> <td>          -0.4775</td>\n",
              "</tr>\n",
              "<tr>\n",
              "  <th>MA.2</th> <td>          -1.4925</td> <td>          +0.2121j</td> <td>           1.5075</td> <td>           0.4775</td>\n",
              "</tr>\n",
              "<tr>\n",
              "  <th>MA.3</th> <td>           3.6008</td> <td>          -0.0000j</td> <td>           3.6008</td> <td>          -0.0000</td>\n",
              "</tr>\n",
              "</table>"
            ],
            "text/plain": [
              "<class 'statsmodels.iolib.summary.Summary'>\n",
              "\"\"\"\n",
              "                             ARIMA Model Results                              \n",
              "==============================================================================\n",
              "Dep. Variable:                 D.Open   No. Observations:                  508\n",
              "Model:                 ARIMA(1, 1, 3)   Log Likelihood               -2968.598\n",
              "Method:                       css-mle   S.D. of innovations             83.483\n",
              "Date:                Wed, 12 Feb 2020   AIC                           5949.197\n",
              "Time:                        04:44:45   BIC                           5974.579\n",
              "Sample:                    01-18-2010   HQIC                          5959.150\n",
              "                         - 10-07-2019                                         \n",
              "================================================================================\n",
              "                   coef    std err          z      P>|z|      [0.025      0.975]\n",
              "--------------------------------------------------------------------------------\n",
              "const           10.9951      4.027      2.730      0.007       3.103      18.888\n",
              "ar.L1.D.Open    -0.8295      0.112     -7.394      0.000      -1.049      -0.610\n",
              "ma.L1.D.Open     1.0358      0.119      8.698      0.000       0.802       1.269\n",
              "ma.L2.D.Open     0.0752      0.071      1.067      0.287      -0.063       0.213\n",
              "ma.L3.D.Open    -0.1222      0.046     -2.644      0.008      -0.213      -0.032\n",
              "                                    Roots                                    \n",
              "=============================================================================\n",
              "                  Real          Imaginary           Modulus         Frequency\n",
              "-----------------------------------------------------------------------------\n",
              "AR.1           -1.2055           +0.0000j            1.2055            0.5000\n",
              "MA.1           -1.4925           -0.2121j            1.5075           -0.4775\n",
              "MA.2           -1.4925           +0.2121j            1.5075            0.4775\n",
              "MA.3            3.6008           -0.0000j            3.6008           -0.0000\n",
              "-----------------------------------------------------------------------------\n",
              "\"\"\""
            ]
          },
          "metadata": {
            "tags": []
          },
          "execution_count": 13
        }
      ]
    },
    {
      "cell_type": "markdown",
      "metadata": {
        "id": "hzCxrNfOrOQV",
        "colab_type": "text"
      },
      "source": [
        "### Predicting the Test Results"
      ]
    },
    {
      "cell_type": "code",
      "metadata": {
        "id": "UwjzF6uEjCS4",
        "colab_type": "code",
        "colab": {}
      },
      "source": [
        "start = len(train)\n",
        "end = len(train) + len(test) - 1"
      ],
      "execution_count": 0,
      "outputs": []
    },
    {
      "cell_type": "code",
      "metadata": {
        "id": "0vEDG_CjmVXo",
        "colab_type": "code",
        "colab": {}
      },
      "source": [
        "predictions = result.predict(start, end, typ = 'levels').rename('ARIMA 1,1,3')"
      ],
      "execution_count": 0,
      "outputs": []
    },
    {
      "cell_type": "markdown",
      "metadata": {
        "id": "doJd-ULPrW-V",
        "colab_type": "text"
      },
      "source": [
        "### Plotting Test Set vs Predictions"
      ]
    },
    {
      "cell_type": "code",
      "metadata": {
        "id": "PV5hYVnPfCLq",
        "colab_type": "code",
        "colab": {
          "base_uri": "https://localhost:8080/",
          "height": 549
        },
        "outputId": "7b2b7953-f014-434d-dc71-53f211ded31c"
      },
      "source": [
        "test['Open'].plot(figsize = (16, 8), legend = True)\n",
        "predictions.plot(legend = True)"
      ],
      "execution_count": 16,
      "outputs": [
        {
          "output_type": "execute_result",
          "data": {
            "text/plain": [
              "<matplotlib.axes._subplots.AxesSubplot at 0x7fd44af5a668>"
            ]
          },
          "metadata": {
            "tags": []
          },
          "execution_count": 16
        },
        {
          "output_type": "display_data",
          "data": {
            "image/png": "[encoded data removed]",
            "text/plain": [
              "<Figure size 1152x576 with 1 Axes>"
            ]
          },
          "metadata": {
            "tags": []
          }
        }
      ]
    },
    {
      "cell_type": "markdown",
      "metadata": {
        "id": "8GJ5iHwhrhdl",
        "colab_type": "text"
      },
      "source": [
        "### Evaluating the Predictions"
      ]
    },
    {
      "cell_type": "code",
      "metadata": {
        "id": "i7GFynYwkJiP",
        "colab_type": "code",
        "colab": {
          "base_uri": "https://localhost:8080/",
          "height": 34
        },
        "outputId": "8c4f7199-a052-414d-ddc5-cad94ea334de"
      },
      "source": [
        "print('RMSE = %s' % np.sqrt(mean_squared_error(test['Open'], predictions)))"
      ],
      "execution_count": 17,
      "outputs": [
        {
          "output_type": "stream",
          "text": [
            "RMSE = 570.7524855020775\n"
          ],
          "name": "stdout"
        }
      ]
    },
    {
      "cell_type": "code",
      "metadata": {
        "id": "Z1ocMeI7koY5",
        "colab_type": "code",
        "colab": {
          "base_uri": "https://localhost:8080/",
          "height": 34
        },
        "outputId": "07aa5421-30dd-4f2c-f252-2a17fe00f2bf"
      },
      "source": [
        "print('Test Set Mean = %s' % test['Open'].mean())"
      ],
      "execution_count": 18,
      "outputs": [
        {
          "output_type": "stream",
          "text": [
            "Test Set Mean = 8489.32724202474\n"
          ],
          "name": "stdout"
        }
      ]
    },
    {
      "cell_type": "code",
      "metadata": {
        "id": "moq-QIs3lK_B",
        "colab_type": "code",
        "colab": {
          "base_uri": "https://localhost:8080/",
          "height": 34
        },
        "outputId": "d584f231-a60f-4ef7-a041-99c4bf296441"
      },
      "source": [
        "print('Predictions Mean = %s' % predictions.mean())"
      ],
      "execution_count": 19,
      "outputs": [
        {
          "output_type": "stream",
          "text": [
            "Predictions Mean = 7976.557569821096\n"
          ],
          "name": "stdout"
        }
      ]
    },
    {
      "cell_type": "markdown",
      "metadata": {
        "id": "05hylFd9rtuJ",
        "colab_type": "text"
      },
      "source": [
        "### Forecasting into the Future"
      ]
    },
    {
      "cell_type": "code",
      "metadata": {
        "id": "EszVBnQ7nuem",
        "colab_type": "code",
        "colab": {
          "base_uri": "https://localhost:8080/",
          "height": 255
        },
        "outputId": "1e58d820-be89-4eeb-e58c-e972646cbcfe"
      },
      "source": [
        "fcast_model = ARIMA(dataset['Open'], order = (1, 1, 3))\n",
        "fcast_result = fcast_model.fit()\n",
        "fcast = fcast_result.predict(start = len(dataset),\n",
        "                             end = len(dataset) + 12, typ = 'levels').rename('ARIMA 1, 1, 3 Forcast') # We will only forecast for 12 weeks\n",
        "fcast"
      ],
      "execution_count": 20,
      "outputs": [
        {
          "output_type": "execute_result",
          "data": {
            "text/plain": [
              "2020-01-06    8996.495335\n",
              "2020-01-13    9007.155965\n",
              "2020-01-20    9012.326447\n",
              "2020-01-27    9031.538052\n",
              "2020-02-03    9038.951147\n",
              "2020-02-10    9056.278324\n",
              "2020-02-17    9065.274871\n",
              "2020-02-24    9081.271500\n",
              "2020-03-02    9091.386082\n",
              "2020-03-09    9106.443246\n",
              "2020-03-16    9117.347245\n",
              "2020-03-23    9131.741076\n",
              "2020-03-30    9143.202462\n",
              "Freq: W-MON, Name: ARIMA 1, 1, 3 Forcast, dtype: float64"
            ]
          },
          "metadata": {
            "tags": []
          },
          "execution_count": 20
        }
      ]
    },
    {
      "cell_type": "markdown",
      "metadata": {
        "id": "M7Wm8bXdt0Nd",
        "colab_type": "text"
      },
      "source": [
        "### Plotting the forecast onto main dataset"
      ]
    },
    {
      "cell_type": "code",
      "metadata": {
        "id": "9BfdMEzvobbG",
        "colab_type": "code",
        "colab": {
          "base_uri": "https://localhost:8080/",
          "height": 514
        },
        "outputId": "3f4e88ec-9bd1-47ab-b853-48cba590c4fd"
      },
      "source": [
        "dataset['Open'].plot(figsize = (16, 8), legend = True)\n",
        "fcast.plot(legend = True)"
      ],
      "execution_count": 21,
      "outputs": [
        {
          "output_type": "execute_result",
          "data": {
            "text/plain": [
              "<matplotlib.axes._subplots.AxesSubplot at 0x7fd44b0e4ef0>"
            ]
          },
          "metadata": {
            "tags": []
          },
          "execution_count": 21
        },
        {
          "output_type": "display_data",
          "data": {
            "image/png": "[encoded data removed]",
            "text/plain": [
              "<Figure size 1152x576 with 1 Axes>"
            ]
          },
          "metadata": {
            "tags": []
          }
        }
      ]
    }
  ]
}